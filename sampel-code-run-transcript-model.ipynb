{
  "nbformat": 4,
  "nbformat_minor": 0,
  "metadata": {
    "colab": {
      "provenance": []
    },
    "kernelspec": {
      "name": "python3",
      "display_name": "Python 3"
    },
    "language_info": {
      "name": "python"
    }
  },
  "cells": [
    {
      "cell_type": "code",
      "source": [
        "from transformers import AutoTokenizer, AutoModelForSeq2SeqLM\n",
        "import torch\n",
        "import textwrap\n",
        "\n",
        "\n",
        "model_name = \"pradhap1125/t5-small-sentence-validator\"\n",
        "tokenizer = AutoTokenizer.from_pretrained(model_name)\n",
        "model = AutoModelForSeq2SeqLM.from_pretrained(model_name)\n",
        "\n"
      ],
      "metadata": {
        "id": "eRifdEOgiD9D"
      },
      "execution_count": 8,
      "outputs": []
    },
    {
      "cell_type": "code",
      "source": [
        "# Input transcript\n",
        "raw_transcript = \"helloeveryonewelcome to todayssession\"\n",
        "# Prefix \"normalize:\" if your training used that\n",
        "input_text = \"normalize: \" + raw_transcript.strip()\n",
        "\n",
        "# Tokenize input\n",
        "inputs = tokenizer(input_text, return_tensors=\"pt\", truncation=True)\n",
        "\n",
        "# Generate output\n",
        "with torch.no_grad():\n",
        "    generated_ids = model.generate(\n",
        "    **inputs,\n",
        "    max_length=1024,\n",
        "    do_sample=True,\n",
        "    top_k=50,\n",
        "    top_p=0.95,\n",
        "    temperature=0.9\n",
        ")\n",
        "\n",
        "chunks = textwrap.wrap(raw_transcript, 400)\n",
        "normalized_chunks = []\n",
        "for ch in chunks:\n",
        "    input_text = \"normalize: \" + ch\n",
        "    inputs = tokenizer(input_text, return_tensors=\"pt\", truncation=True)\n",
        "    output_ids = model.generate(**inputs, max_length=256, num_beams=5)\n",
        "    normalized_chunks.append(tokenizer.decode(output_ids[0], skip_special_tokens=True))\n",
        "\n",
        "final_output = \" \".join(normalized_chunks)\n",
        "\n",
        "print(\"===== RAW TRANSCRIPT =====\")\n",
        "print(raw_transcript)\n",
        "print(\"\\n===== NORMALIZED OUTPUT =====\")\n",
        "print(final_output)"
      ],
      "metadata": {
        "colab": {
          "base_uri": "https://localhost:8080/"
        },
        "id": "TauDT9ixnCKI",
        "outputId": "9d4fdcaf-e6b2-43c7-dd3d-b92468277273"
      },
      "execution_count": 14,
      "outputs": [
        {
          "output_type": "stream",
          "name": "stdout",
          "text": [
            "===== RAW TRANSCRIPT =====\n",
            "helloeveryonewelcome to todayssession\n",
            "\n",
            "===== NORMALIZED OUTPUT =====\n",
            "Hallo, everyone welcome to today's session.\n"
          ]
        }
      ]
    }
  ]
}